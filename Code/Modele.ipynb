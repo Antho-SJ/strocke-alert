{
 "cells": [
  {
   "cell_type": "markdown",
   "id": "f5395bad",
   "metadata": {},
   "source": [
    "Import"
   ]
  },
  {
   "cell_type": "code",
   "execution_count": 32,
   "id": "28a8ad33",
   "metadata": {},
   "outputs": [],
   "source": [
    "from stroke import *"
   ]
  },
  {
   "cell_type": "markdown",
   "id": "bda3e7ef",
   "metadata": {},
   "source": [
    "# Analyse dataset"
   ]
  },
  {
   "cell_type": "markdown",
   "id": "4016f1d2",
   "metadata": {},
   "source": [
    "## Lecture Dataset"
   ]
  },
  {
   "cell_type": "code",
   "execution_count": 33,
   "id": "bc916dc0",
   "metadata": {},
   "outputs": [],
   "source": [
    "# Lecture du fichier CSV\n",
    "df = pd.read_csv(\"../healthcare-dataset-stroke-data.csv\")"
   ]
  },
  {
   "cell_type": "markdown",
   "id": "f22f0902",
   "metadata": {},
   "source": [
    "## head"
   ]
  },
  {
   "cell_type": "code",
   "execution_count": 34,
   "id": "56df2fa6",
   "metadata": {},
   "outputs": [
    {
     "data": {
      "text/html": [
       "<div>\n",
       "<style scoped>\n",
       "    .dataframe tbody tr th:only-of-type {\n",
       "        vertical-align: middle;\n",
       "    }\n",
       "\n",
       "    .dataframe tbody tr th {\n",
       "        vertical-align: top;\n",
       "    }\n",
       "\n",
       "    .dataframe thead th {\n",
       "        text-align: right;\n",
       "    }\n",
       "</style>\n",
       "<table border=\"1\" class=\"dataframe\">\n",
       "  <thead>\n",
       "    <tr style=\"text-align: right;\">\n",
       "      <th></th>\n",
       "      <th>id</th>\n",
       "      <th>gender</th>\n",
       "      <th>age</th>\n",
       "      <th>hypertension</th>\n",
       "      <th>heart_disease</th>\n",
       "      <th>ever_married</th>\n",
       "      <th>work_type</th>\n",
       "      <th>Residence_type</th>\n",
       "      <th>avg_glucose_level</th>\n",
       "      <th>bmi</th>\n",
       "      <th>smoking_status</th>\n",
       "      <th>stroke</th>\n",
       "    </tr>\n",
       "  </thead>\n",
       "  <tbody>\n",
       "    <tr>\n",
       "      <th>0</th>\n",
       "      <td>9046</td>\n",
       "      <td>Male</td>\n",
       "      <td>67.0</td>\n",
       "      <td>0</td>\n",
       "      <td>1</td>\n",
       "      <td>Yes</td>\n",
       "      <td>Private</td>\n",
       "      <td>Urban</td>\n",
       "      <td>228.69</td>\n",
       "      <td>36.6</td>\n",
       "      <td>formerly smoked</td>\n",
       "      <td>1</td>\n",
       "    </tr>\n",
       "    <tr>\n",
       "      <th>1</th>\n",
       "      <td>51676</td>\n",
       "      <td>Female</td>\n",
       "      <td>61.0</td>\n",
       "      <td>0</td>\n",
       "      <td>0</td>\n",
       "      <td>Yes</td>\n",
       "      <td>Self-employed</td>\n",
       "      <td>Rural</td>\n",
       "      <td>202.21</td>\n",
       "      <td>NaN</td>\n",
       "      <td>never smoked</td>\n",
       "      <td>1</td>\n",
       "    </tr>\n",
       "    <tr>\n",
       "      <th>2</th>\n",
       "      <td>31112</td>\n",
       "      <td>Male</td>\n",
       "      <td>80.0</td>\n",
       "      <td>0</td>\n",
       "      <td>1</td>\n",
       "      <td>Yes</td>\n",
       "      <td>Private</td>\n",
       "      <td>Rural</td>\n",
       "      <td>105.92</td>\n",
       "      <td>32.5</td>\n",
       "      <td>never smoked</td>\n",
       "      <td>1</td>\n",
       "    </tr>\n",
       "    <tr>\n",
       "      <th>3</th>\n",
       "      <td>60182</td>\n",
       "      <td>Female</td>\n",
       "      <td>49.0</td>\n",
       "      <td>0</td>\n",
       "      <td>0</td>\n",
       "      <td>Yes</td>\n",
       "      <td>Private</td>\n",
       "      <td>Urban</td>\n",
       "      <td>171.23</td>\n",
       "      <td>34.4</td>\n",
       "      <td>smokes</td>\n",
       "      <td>1</td>\n",
       "    </tr>\n",
       "    <tr>\n",
       "      <th>4</th>\n",
       "      <td>1665</td>\n",
       "      <td>Female</td>\n",
       "      <td>79.0</td>\n",
       "      <td>1</td>\n",
       "      <td>0</td>\n",
       "      <td>Yes</td>\n",
       "      <td>Self-employed</td>\n",
       "      <td>Rural</td>\n",
       "      <td>174.12</td>\n",
       "      <td>24.0</td>\n",
       "      <td>never smoked</td>\n",
       "      <td>1</td>\n",
       "    </tr>\n",
       "  </tbody>\n",
       "</table>\n",
       "</div>"
      ],
      "text/plain": [
       "      id  gender   age  hypertension  heart_disease ever_married  \\\n",
       "0   9046    Male  67.0             0              1          Yes   \n",
       "1  51676  Female  61.0             0              0          Yes   \n",
       "2  31112    Male  80.0             0              1          Yes   \n",
       "3  60182  Female  49.0             0              0          Yes   \n",
       "4   1665  Female  79.0             1              0          Yes   \n",
       "\n",
       "       work_type Residence_type  avg_glucose_level   bmi   smoking_status  \\\n",
       "0        Private          Urban             228.69  36.6  formerly smoked   \n",
       "1  Self-employed          Rural             202.21   NaN     never smoked   \n",
       "2        Private          Rural             105.92  32.5     never smoked   \n",
       "3        Private          Urban             171.23  34.4           smokes   \n",
       "4  Self-employed          Rural             174.12  24.0     never smoked   \n",
       "\n",
       "   stroke  \n",
       "0       1  \n",
       "1       1  \n",
       "2       1  \n",
       "3       1  \n",
       "4       1  "
      ]
     },
     "execution_count": 34,
     "metadata": {},
     "output_type": "execute_result"
    }
   ],
   "source": [
    "\n",
    "\n",
    "df.head()"
   ]
  },
  {
   "cell_type": "markdown",
   "id": "e7264584",
   "metadata": {},
   "source": [
    "## shape"
   ]
  },
  {
   "cell_type": "code",
   "execution_count": 35,
   "id": "5b35b81f",
   "metadata": {},
   "outputs": [
    {
     "name": "stdout",
     "output_type": "stream",
     "text": [
      "Le dataframe contient 5110 lignes et 12 colonnes\n"
     ]
    }
   ],
   "source": [
    "# Prise en compte des dimensions du dataframe\n",
    "df.shape\n",
    "\n",
    "print(f\"Le dataframe contient {df.shape[0]} lignes et {df.shape[1]} colonnes\")"
   ]
  },
  {
   "cell_type": "markdown",
   "id": "cd31baea",
   "metadata": {},
   "source": [
    "## info"
   ]
  },
  {
   "cell_type": "code",
   "execution_count": 36,
   "id": "64aeda4e",
   "metadata": {},
   "outputs": [
    {
     "name": "stdout",
     "output_type": "stream",
     "text": [
      "<class 'pandas.core.frame.DataFrame'>\n",
      "RangeIndex: 5110 entries, 0 to 5109\n",
      "Data columns (total 12 columns):\n",
      " #   Column             Non-Null Count  Dtype  \n",
      "---  ------             --------------  -----  \n",
      " 0   id                 5110 non-null   int64  \n",
      " 1   gender             5110 non-null   object \n",
      " 2   age                5110 non-null   float64\n",
      " 3   hypertension       5110 non-null   int64  \n",
      " 4   heart_disease      5110 non-null   int64  \n",
      " 5   ever_married       5110 non-null   object \n",
      " 6   work_type          5110 non-null   object \n",
      " 7   Residence_type     5110 non-null   object \n",
      " 8   avg_glucose_level  5110 non-null   float64\n",
      " 9   bmi                4909 non-null   float64\n",
      " 10  smoking_status     5110 non-null   object \n",
      " 11  stroke             5110 non-null   int64  \n",
      "dtypes: float64(3), int64(4), object(5)\n",
      "memory usage: 479.2+ KB\n"
     ]
    }
   ],
   "source": [
    "df.info()"
   ]
  },
  {
   "cell_type": "markdown",
   "id": "7d710281",
   "metadata": {},
   "source": [
    "## describe"
   ]
  },
  {
   "cell_type": "code",
   "execution_count": 37,
   "id": "4931179a",
   "metadata": {},
   "outputs": [
    {
     "data": {
      "text/html": [
       "<div>\n",
       "<style scoped>\n",
       "    .dataframe tbody tr th:only-of-type {\n",
       "        vertical-align: middle;\n",
       "    }\n",
       "\n",
       "    .dataframe tbody tr th {\n",
       "        vertical-align: top;\n",
       "    }\n",
       "\n",
       "    .dataframe thead th {\n",
       "        text-align: right;\n",
       "    }\n",
       "</style>\n",
       "<table border=\"1\" class=\"dataframe\">\n",
       "  <thead>\n",
       "    <tr style=\"text-align: right;\">\n",
       "      <th></th>\n",
       "      <th>id</th>\n",
       "      <th>age</th>\n",
       "      <th>hypertension</th>\n",
       "      <th>heart_disease</th>\n",
       "      <th>avg_glucose_level</th>\n",
       "      <th>bmi</th>\n",
       "      <th>stroke</th>\n",
       "    </tr>\n",
       "  </thead>\n",
       "  <tbody>\n",
       "    <tr>\n",
       "      <th>count</th>\n",
       "      <td>5110.000000</td>\n",
       "      <td>5110.000000</td>\n",
       "      <td>5110.000000</td>\n",
       "      <td>5110.000000</td>\n",
       "      <td>5110.000000</td>\n",
       "      <td>4909.000000</td>\n",
       "      <td>5110.000000</td>\n",
       "    </tr>\n",
       "    <tr>\n",
       "      <th>mean</th>\n",
       "      <td>36517.829354</td>\n",
       "      <td>43.226614</td>\n",
       "      <td>0.097456</td>\n",
       "      <td>0.054012</td>\n",
       "      <td>106.147677</td>\n",
       "      <td>28.893237</td>\n",
       "      <td>0.048728</td>\n",
       "    </tr>\n",
       "    <tr>\n",
       "      <th>std</th>\n",
       "      <td>21161.721625</td>\n",
       "      <td>22.612647</td>\n",
       "      <td>0.296607</td>\n",
       "      <td>0.226063</td>\n",
       "      <td>45.283560</td>\n",
       "      <td>7.854067</td>\n",
       "      <td>0.215320</td>\n",
       "    </tr>\n",
       "    <tr>\n",
       "      <th>min</th>\n",
       "      <td>67.000000</td>\n",
       "      <td>0.080000</td>\n",
       "      <td>0.000000</td>\n",
       "      <td>0.000000</td>\n",
       "      <td>55.120000</td>\n",
       "      <td>10.300000</td>\n",
       "      <td>0.000000</td>\n",
       "    </tr>\n",
       "    <tr>\n",
       "      <th>25%</th>\n",
       "      <td>17741.250000</td>\n",
       "      <td>25.000000</td>\n",
       "      <td>0.000000</td>\n",
       "      <td>0.000000</td>\n",
       "      <td>77.245000</td>\n",
       "      <td>23.500000</td>\n",
       "      <td>0.000000</td>\n",
       "    </tr>\n",
       "    <tr>\n",
       "      <th>50%</th>\n",
       "      <td>36932.000000</td>\n",
       "      <td>45.000000</td>\n",
       "      <td>0.000000</td>\n",
       "      <td>0.000000</td>\n",
       "      <td>91.885000</td>\n",
       "      <td>28.100000</td>\n",
       "      <td>0.000000</td>\n",
       "    </tr>\n",
       "    <tr>\n",
       "      <th>75%</th>\n",
       "      <td>54682.000000</td>\n",
       "      <td>61.000000</td>\n",
       "      <td>0.000000</td>\n",
       "      <td>0.000000</td>\n",
       "      <td>114.090000</td>\n",
       "      <td>33.100000</td>\n",
       "      <td>0.000000</td>\n",
       "    </tr>\n",
       "    <tr>\n",
       "      <th>max</th>\n",
       "      <td>72940.000000</td>\n",
       "      <td>82.000000</td>\n",
       "      <td>1.000000</td>\n",
       "      <td>1.000000</td>\n",
       "      <td>271.740000</td>\n",
       "      <td>97.600000</td>\n",
       "      <td>1.000000</td>\n",
       "    </tr>\n",
       "  </tbody>\n",
       "</table>\n",
       "</div>"
      ],
      "text/plain": [
       "                 id          age  hypertension  heart_disease  \\\n",
       "count   5110.000000  5110.000000   5110.000000    5110.000000   \n",
       "mean   36517.829354    43.226614      0.097456       0.054012   \n",
       "std    21161.721625    22.612647      0.296607       0.226063   \n",
       "min       67.000000     0.080000      0.000000       0.000000   \n",
       "25%    17741.250000    25.000000      0.000000       0.000000   \n",
       "50%    36932.000000    45.000000      0.000000       0.000000   \n",
       "75%    54682.000000    61.000000      0.000000       0.000000   \n",
       "max    72940.000000    82.000000      1.000000       1.000000   \n",
       "\n",
       "       avg_glucose_level          bmi       stroke  \n",
       "count        5110.000000  4909.000000  5110.000000  \n",
       "mean          106.147677    28.893237     0.048728  \n",
       "std            45.283560     7.854067     0.215320  \n",
       "min            55.120000    10.300000     0.000000  \n",
       "25%            77.245000    23.500000     0.000000  \n",
       "50%            91.885000    28.100000     0.000000  \n",
       "75%           114.090000    33.100000     0.000000  \n",
       "max           271.740000    97.600000     1.000000  "
      ]
     },
     "execution_count": 37,
     "metadata": {},
     "output_type": "execute_result"
    }
   ],
   "source": [
    "df.describe()"
   ]
  },
  {
   "cell_type": "markdown",
   "id": "ce0530c2",
   "metadata": {},
   "source": [
    "## % valeurs abberantes et manquantes"
   ]
  },
  {
   "cell_type": "markdown",
   "id": "69fcb90f",
   "metadata": {},
   "source": [
    "Pas d'aberration au vu du describe"
   ]
  },
  {
   "cell_type": "markdown",
   "id": "9f97219f",
   "metadata": {},
   "source": [
    "## Analyse univariée (a faire pour chaque variable)"
   ]
  },
  {
   "cell_type": "markdown",
   "id": "491ca12b",
   "metadata": {},
   "source": [
    "### Variable genre"
   ]
  },
  {
   "cell_type": "markdown",
   "id": "c9bf4f3e",
   "metadata": {},
   "source": [
    "#### correlation au choix (attention, il y a different type)"
   ]
  },
  {
   "cell_type": "code",
   "execution_count": 38,
   "id": "74da7131",
   "metadata": {},
   "outputs": [
    {
     "name": "stdout",
     "output_type": "stream",
     "text": [
      "gender  Female  Male  Other\n",
      "stroke                     \n",
      "0         2853  2007      1\n",
      "1          141   108      0\n",
      "Chi2: 0.47258662884530234\n",
      "p-value: 0.7895490538408245\n",
      "Il n'y a pas correlation\n"
     ]
    }
   ],
   "source": [
    "# Calcul du tableau de contingence\n",
    "contingency_table = pd.crosstab(df['stroke'], df['gender'])\n",
    "\n",
    "# Affichage du tableau de contingence\n",
    "print(contingency_table)\n",
    "\n",
    "# Test du chi-deux pour l'indépendance\n",
    "chi2, p, dof, expected = chi2_contingency(contingency_table)\n",
    "print(\"Chi2:\", chi2)\n",
    "print(\"p-value:\", p)\n",
    "\n",
    "if chi2 < p:\n",
    "    print(\"Il n'y a pas correlation\")\n",
    "else:\n",
    "    print(\"Il y a correlation\")"
   ]
  },
  {
   "cell_type": "markdown",
   "id": "93f01c15",
   "metadata": {},
   "source": [
    "#### graphe"
   ]
  },
  {
   "cell_type": "markdown",
   "id": "2b1463b9",
   "metadata": {},
   "source": [
    "### Variable age"
   ]
  },
  {
   "cell_type": "markdown",
   "id": "f97d002d",
   "metadata": {},
   "source": [
    "#### correlation au choix (attention, il y a different type)"
   ]
  },
  {
   "cell_type": "markdown",
   "id": "ae58c678",
   "metadata": {},
   "source": [
    "#### graphe"
   ]
  },
  {
   "cell_type": "markdown",
   "id": "c180d2d7",
   "metadata": {},
   "source": [
    "### Variable hypertension"
   ]
  },
  {
   "cell_type": "markdown",
   "id": "5d3eef57",
   "metadata": {},
   "source": [
    "#### correlation au choix (attention, il y a different type)"
   ]
  },
  {
   "cell_type": "markdown",
   "id": "6278c13d",
   "metadata": {},
   "source": [
    "#### graphe"
   ]
  },
  {
   "cell_type": "markdown",
   "metadata": {},
   "source": [
    "### Variable heart_disease"
   ]
  },
  {
   "cell_type": "markdown",
   "id": "aeac4af4",
   "metadata": {},
   "source": [
    "#### correlation au choix (attention, il y a different type)"
   ]
  },
  {
   "cell_type": "code",
   "execution_count": 39,
   "id": "7ed8d4ba",
   "metadata": {},
   "outputs": [
    {
     "name": "stdout",
     "output_type": "stream",
     "text": [
      "stroke            0    1\n",
      "heart_disease           \n",
      "0              4632  202\n",
      "1               229   47\n",
      "Chi2: 90.25956125843324\n",
      "p-value: 2.0887845685229236e-21\n",
      "Il y a correlation\n"
     ]
    }
   ],
   "source": [
    "# Calcul du tableau de contingence\n",
    "contingency_table = pd.crosstab(df['heart_disease'], df['stroke'])\n",
    "\n",
    "# Affichage du tableau de contingence\n",
    "print(contingency_table)\n",
    "\n",
    "# Test du chi-deux pour l'indépendance\n",
    "chi2, p, dof, expected = chi2_contingency(contingency_table)\n",
    "print(\"Chi2:\", chi2)\n",
    "print(\"p-value:\", p)\n",
    "\n",
    "if chi2 < p:\n",
    "    print(\"Il n'y a pas correlation\")\n",
    "else:\n",
    "    print(\"Il y a correlation\")"
   ]
  },
  {
   "cell_type": "markdown",
   "id": "5a810312",
   "metadata": {},
   "source": [
    "#### graphe"
   ]
  },
  {
   "cell_type": "markdown",
   "id": "248f57d1",
   "metadata": {},
   "source": [
    "### Variable ever_married"
   ]
  },
  {
   "cell_type": "markdown",
   "id": "af44af46",
   "metadata": {},
   "source": [
    "#### correlation au choix (attention, il y a different type)"
   ]
  },
  {
   "cell_type": "code",
   "execution_count": 40,
   "id": "de51a173",
   "metadata": {},
   "outputs": [
    {
     "name": "stdout",
     "output_type": "stream",
     "text": [
      "stroke           0    1\n",
      "ever_married           \n",
      "No            1728   29\n",
      "Yes           3133  220\n",
      "Chi2: 58.923890259034195\n",
      "p-value: 1.6389021142314745e-14\n",
      "Il y a correlation\n"
     ]
    }
   ],
   "source": [
    "# Calcul du tableau de contingence\n",
    "contingency_table = pd.crosstab(df['ever_married'], df['stroke'])\n",
    "\n",
    "# Affichage du tableau de contingence\n",
    "print(contingency_table)\n",
    "\n",
    "# Test du chi-deux pour l'indépendance\n",
    "chi2, p, dof, expected = chi2_contingency(contingency_table)\n",
    "print(\"Chi2:\", chi2)\n",
    "print(\"p-value:\", p)\n",
    "\n",
    "if chi2 < p:\n",
    "    print(\"Il n'y a pas correlation\")\n",
    "else:\n",
    "    print(\"Il y a correlation\")"
   ]
  },
  {
   "cell_type": "markdown",
   "id": "8ddcf5e7",
   "metadata": {},
   "source": [
    "#### graphe"
   ]
  },
  {
   "cell_type": "markdown",
   "id": "a6088e0e",
   "metadata": {},
   "source": [
    "### Variable work_type"
   ]
  },
  {
   "cell_type": "markdown",
   "id": "0b4f9797",
   "metadata": {},
   "source": [
    "#### correlation au choix (attention, il y a different type)"
   ]
  },
  {
   "cell_type": "code",
   "execution_count": 41,
   "id": "ad190b79",
   "metadata": {},
   "outputs": [
    {
     "name": "stdout",
     "output_type": "stream",
     "text": [
      "stroke            0    1\n",
      "work_type               \n",
      "Govt_job        624   33\n",
      "Never_worked     22    0\n",
      "Private        2776  149\n",
      "Self-employed   754   65\n",
      "children        685    2\n",
      "Chi2: 49.163511976675295\n",
      "p-value: 5.397707801896119e-10\n",
      "Il y a correlation\n"
     ]
    }
   ],
   "source": [
    "# Calcul du tableau de contingence\n",
    "contingency_table = pd.crosstab(df['work_type'], df['stroke'])\n",
    "\n",
    "# Affichage du tableau de contingence\n",
    "print(contingency_table)\n",
    "\n",
    "# Test du chi-deux pour l'indépendance\n",
    "chi2, p, dof, expected = chi2_contingency(contingency_table)\n",
    "print(\"Chi2:\", chi2)\n",
    "print(\"p-value:\", p)\n",
    "\n",
    "if chi2 < p:\n",
    "    print(\"Il n'y a pas correlation\")\n",
    "else:\n",
    "    print(\"Il y a correlation\")"
   ]
  },
  {
   "cell_type": "markdown",
   "id": "e9b62c05",
   "metadata": {},
   "source": [
    "#### graphe"
   ]
  },
  {
   "cell_type": "markdown",
   "id": "b856ee96",
   "metadata": {},
   "source": [
    "### Variable Residence_type"
   ]
  },
  {
   "cell_type": "markdown",
   "id": "bbfc0e7e",
   "metadata": {},
   "source": [
    "#### correlation au choix (attention, il y a different type)"
   ]
  },
  {
   "cell_type": "code",
   "execution_count": 42,
   "id": "07286210",
   "metadata": {},
   "outputs": [
    {
     "name": "stdout",
     "output_type": "stream",
     "text": [
      "stroke             0    1\n",
      "Residence_type           \n",
      "Rural           2400  114\n",
      "Urban           2461  135\n",
      "Chi2: 1.0816367471627524\n",
      "p-value: 0.29833169286876987\n",
      "Il y a correlation\n"
     ]
    }
   ],
   "source": [
    "# Calcul du tableau de contingence\n",
    "contingency_table = pd.crosstab(df['Residence_type'], df['stroke'])\n",
    "\n",
    "# Affichage du tableau de contingence\n",
    "print(contingency_table)\n",
    "\n",
    "# Test du chi-deux pour l'indépendance\n",
    "chi2, p, dof, expected = chi2_contingency(contingency_table)\n",
    "print(\"Chi2:\", chi2)\n",
    "print(\"p-value:\", p)\n",
    "\n",
    "if chi2 < p:\n",
    "    print(\"Il n'y a pas correlation\")\n",
    "else:\n",
    "    print(\"Il y a correlation\")"
   ]
  },
  {
   "cell_type": "markdown",
   "id": "b75fb706",
   "metadata": {},
   "source": [
    "#### graphe"
   ]
  },
  {
   "cell_type": "markdown",
   "id": "0f58811e",
   "metadata": {},
   "source": [
    "### Variable avg_glucose_level"
   ]
  },
  {
   "cell_type": "markdown",
   "id": "48aa91c8",
   "metadata": {},
   "source": [
    "#### correlation au choix (attention, il y a different type)"
   ]
  },
  {
   "cell_type": "markdown",
   "id": "77bc987e",
   "metadata": {},
   "source": [
    "#### graphe"
   ]
  },
  {
   "cell_type": "markdown",
   "id": "d313ceb7",
   "metadata": {},
   "source": [
    "### Variable bmi"
   ]
  },
  {
   "cell_type": "markdown",
   "id": "db3d4a37",
   "metadata": {},
   "source": [
    "#### correlation au choix (attention, il y a different type)"
   ]
  },
  {
   "cell_type": "markdown",
   "id": "98c1da75",
   "metadata": {},
   "source": [
    "#### graphe"
   ]
  },
  {
   "cell_type": "markdown",
   "id": "1436640f",
   "metadata": {},
   "source": [
    "### Variable smoking_status"
   ]
  },
  {
   "cell_type": "markdown",
   "id": "405eade2",
   "metadata": {},
   "source": [
    "#### correlation au choix (attention, il y a different type)"
   ]
  },
  {
   "cell_type": "code",
   "execution_count": 43,
   "id": "67948972",
   "metadata": {},
   "outputs": [
    {
     "name": "stdout",
     "output_type": "stream",
     "text": [
      "stroke              0   1\n",
      "smoking_status           \n",
      "Unknown          1497  47\n",
      "formerly smoked   815  70\n",
      "never smoked     1802  90\n",
      "smokes            747  42\n",
      "Chi2: 29.147269191399264\n",
      "p-value: 2.0853997025008455e-06\n",
      "Il y a correlation\n"
     ]
    }
   ],
   "source": [
    "# Calcul du tableau de contingence\n",
    "contingency_table = pd.crosstab(df['smoking_status'], df['stroke'])\n",
    "\n",
    "# Affichage du tableau de contingence\n",
    "print(contingency_table)\n",
    "\n",
    "# Test du chi-deux pour l'indépendance\n",
    "chi2, p, dof, expected = chi2_contingency(contingency_table)\n",
    "print(\"Chi2:\", chi2)\n",
    "print(\"p-value:\", p)\n",
    "\n",
    "if chi2 < p:\n",
    "    print(\"Il n'y a pas correlation\")\n",
    "else:\n",
    "    print(\"Il y a correlation\")"
   ]
  },
  {
   "cell_type": "markdown",
   "id": "f9b942d0",
   "metadata": {},
   "source": [
    "#### graphe"
   ]
  },
  {
   "cell_type": "markdown",
   "id": "fe9c7f67",
   "metadata": {},
   "source": [
    "## Analyse bi-variée (a faire pour chaque variable)"
   ]
  },
  {
   "cell_type": "markdown",
   "id": "17282820",
   "metadata": {},
   "source": [
    "### Variable 1 + Variable 2"
   ]
  },
  {
   "cell_type": "markdown",
   "id": "5ad3ae1e",
   "metadata": {},
   "source": [
    "#### correlation au choix (attention, il y a different type)"
   ]
  },
  {
   "cell_type": "markdown",
   "id": "1604a5e0",
   "metadata": {},
   "source": [
    "#### graphe"
   ]
  },
  {
   "cell_type": "markdown",
   "id": "2055ce04",
   "metadata": {},
   "source": [
    "### Variable 3 + Variable 4"
   ]
  },
  {
   "cell_type": "markdown",
   "id": "cda1d880",
   "metadata": {},
   "source": [
    "#### correlation au choix (attention, il y a different type)"
   ]
  },
  {
   "cell_type": "markdown",
   "id": "3fdd8bf9",
   "metadata": {},
   "source": [
    "#### graphe"
   ]
  },
  {
   "cell_type": "markdown",
   "id": "641fcf72",
   "metadata": {},
   "source": [
    "### Variable 5 + Variable 6"
   ]
  },
  {
   "cell_type": "markdown",
   "id": "f2ed0243",
   "metadata": {},
   "source": [
    "#### correlation au choix (attention, il y a different type)"
   ]
  },
  {
   "cell_type": "markdown",
   "id": "bcee546a",
   "metadata": {},
   "source": [
    "#### graphe"
   ]
  },
  {
   "cell_type": "markdown",
   "id": "b94650f8",
   "metadata": {},
   "source": [
    "### Variable 7 + Variable 8"
   ]
  },
  {
   "cell_type": "markdown",
   "id": "676abeac",
   "metadata": {},
   "source": [
    "#### correlation au choix (attention, il y a different type)"
   ]
  },
  {
   "cell_type": "markdown",
   "id": "0ed18403",
   "metadata": {},
   "source": [
    "#### graphe"
   ]
  },
  {
   "cell_type": "markdown",
   "id": "a0560589",
   "metadata": {},
   "source": [
    "# Analyse modele"
   ]
  },
  {
   "cell_type": "markdown",
   "id": "40c99386",
   "metadata": {},
   "source": [
    "import scikit-learn"
   ]
  },
  {
   "cell_type": "markdown",
   "id": "0d0c2bd5",
   "metadata": {},
   "source": [
    "Partager dataset\n",
    "\n",
    "train 70%\n",
    "test 30%\n",
    "par exemple\n",
    "\n",
    "Possibilité de tester 40/60 ou 20/80"
   ]
  },
  {
   "cell_type": "markdown",
   "id": "a0826c2d",
   "metadata": {},
   "source": [
    "## Model 1 (Regression logistique)"
   ]
  },
  {
   "cell_type": "markdown",
   "id": "2cf5e36e",
   "metadata": {},
   "source": [
    "### Entrainement du modele"
   ]
  },
  {
   "cell_type": "markdown",
   "id": "6c3aa39d",
   "metadata": {},
   "source": [
    "### Test du modele"
   ]
  },
  {
   "cell_type": "markdown",
   "id": "b1a79ee6",
   "metadata": {},
   "source": [
    "### Evaluation du modele selon metrics choisit (ex: Precision, accurancy, Recall,...)"
   ]
  },
  {
   "cell_type": "markdown",
   "id": "709ed1c0",
   "metadata": {},
   "source": [
    "## Model 2 ???"
   ]
  },
  {
   "cell_type": "markdown",
   "id": "d36d7103",
   "metadata": {},
   "source": [
    "### Entrainement du modele"
   ]
  },
  {
   "cell_type": "markdown",
   "id": "45e2ad7a",
   "metadata": {},
   "source": [
    "### Test du modele"
   ]
  },
  {
   "cell_type": "markdown",
   "id": "ab167523",
   "metadata": {},
   "source": [
    "### Evaluation du modele selon metrics choisit (ex: Precision, accurancy, Recall,...)"
   ]
  },
  {
   "cell_type": "markdown",
   "id": "9933b029",
   "metadata": {},
   "source": [
    "## Model 3 ???"
   ]
  },
  {
   "cell_type": "markdown",
   "id": "71ad0f0a",
   "metadata": {},
   "source": [
    "### Entrainement du modele"
   ]
  },
  {
   "cell_type": "markdown",
   "id": "1b089c21",
   "metadata": {},
   "source": [
    "### Test du modele"
   ]
  },
  {
   "cell_type": "markdown",
   "id": "a4eafdd6",
   "metadata": {},
   "source": [
    "### Evaluation du modele selon metrics choisit (ex: Precision, accurancy, Recall,...)"
   ]
  }
 ],
 "metadata": {
  "kernelspec": {
   "display_name": "Python 3",
   "language": "python",
   "name": "python3"
  },
  "language_info": {
   "codemirror_mode": {
    "name": "ipython",
    "version": 3
   },
   "file_extension": ".py",
   "mimetype": "text/x-python",
   "name": "python",
   "nbconvert_exporter": "python",
   "pygments_lexer": "ipython3",
   "version": "3.12.0"
  }
 },
 "nbformat": 4,
 "nbformat_minor": 5
}
