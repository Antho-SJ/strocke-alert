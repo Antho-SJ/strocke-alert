{
 "cells": [
  {
   "cell_type": "markdown",
   "id": "bda3e7ef",
   "metadata": {},
   "source": [
    "# Analyse dataset"
   ]
  },
  {
   "cell_type": "markdown",
   "id": "f22f0902",
   "metadata": {},
   "source": [
    "## head"
   ]
  },
  {
   "cell_type": "markdown",
   "id": "e7264584",
   "metadata": {},
   "source": [
    "## shape"
   ]
  },
  {
   "cell_type": "markdown",
   "id": "cd31baea",
   "metadata": {},
   "source": [
    "## info"
   ]
  },
  {
   "cell_type": "markdown",
   "id": "7d710281",
   "metadata": {},
   "source": [
    "## describe"
   ]
  },
  {
   "cell_type": "markdown",
   "id": "ce0530c2",
   "metadata": {},
   "source": [
    "## % valeurs abberantes et manquantes"
   ]
  },
  {
   "cell_type": "markdown",
   "id": "9f97219f",
   "metadata": {},
   "source": [
    "## Analyse univariée (a faire pour chaque variable)"
   ]
  },
  {
   "cell_type": "markdown",
   "id": "491ca12b",
   "metadata": {},
   "source": [
    "### Variable 1"
   ]
  },
  {
   "cell_type": "markdown",
   "id": "c9bf4f3e",
   "metadata": {},
   "source": [
    "#### correlation au choix (attention, il y a different type)"
   ]
  },
  {
   "cell_type": "markdown",
   "id": "93f01c15",
   "metadata": {},
   "source": [
    "#### graphe"
   ]
  },
  {
   "cell_type": "markdown",
   "id": "2b1463b9",
   "metadata": {},
   "source": [
    "### Variable 2"
   ]
  },
  {
   "cell_type": "markdown",
   "id": "f97d002d",
   "metadata": {},
   "source": [
    "#### correlation au choix (attention, il y a different type)"
   ]
  },
  {
   "cell_type": "markdown",
   "id": "ae58c678",
   "metadata": {},
   "source": [
    "#### graphe"
   ]
  },
  {
   "cell_type": "markdown",
   "id": "c180d2d7",
   "metadata": {},
   "source": [
    "### Variable 3"
   ]
  },
  {
   "cell_type": "markdown",
   "id": "5d3eef57",
   "metadata": {},
   "source": [
    "#### correlation au choix (attention, il y a different type)"
   ]
  },
  {
   "cell_type": "markdown",
   "id": "6278c13d",
   "metadata": {},
   "source": [
    "#### graphe"
   ]
  },
  {
   "cell_type": "markdown",
   "metadata": {},
   "source": [
    "### Variable 4"
   ]
  },
  {
   "cell_type": "markdown",
   "id": "aeac4af4",
   "metadata": {},
   "source": [
    "#### correlation au choix (attention, il y a different type)"
   ]
  },
  {
   "cell_type": "markdown",
   "id": "5a810312",
   "metadata": {},
   "source": [
    "#### graphe"
   ]
  },
  {
   "cell_type": "markdown",
   "id": "fe9c7f67",
   "metadata": {},
   "source": [
    "## Analyse bi-variée (a faire pour chaque variable)"
   ]
  },
  {
   "cell_type": "markdown",
   "id": "17282820",
   "metadata": {},
   "source": [
    "### Variable 1 + Variable 2"
   ]
  },
  {
   "cell_type": "markdown",
   "id": "5ad3ae1e",
   "metadata": {},
   "source": [
    "#### correlation au choix (attention, il y a different type)"
   ]
  },
  {
   "cell_type": "markdown",
   "id": "1604a5e0",
   "metadata": {},
   "source": [
    "#### graphe"
   ]
  },
  {
   "cell_type": "markdown",
   "id": "2055ce04",
   "metadata": {},
   "source": [
    "### Variable 3 + Variable 4"
   ]
  },
  {
   "cell_type": "markdown",
   "id": "cda1d880",
   "metadata": {},
   "source": [
    "#### correlation au choix (attention, il y a different type)"
   ]
  },
  {
   "cell_type": "markdown",
   "id": "3fdd8bf9",
   "metadata": {},
   "source": [
    "#### graphe"
   ]
  },
  {
   "cell_type": "markdown",
   "id": "641fcf72",
   "metadata": {},
   "source": [
    "### Variable 5 + Variable 6"
   ]
  },
  {
   "cell_type": "markdown",
   "id": "f2ed0243",
   "metadata": {},
   "source": [
    "#### correlation au choix (attention, il y a different type)"
   ]
  },
  {
   "cell_type": "markdown",
   "id": "bcee546a",
   "metadata": {},
   "source": [
    "#### graphe"
   ]
  },
  {
   "cell_type": "markdown",
   "id": "b94650f8",
   "metadata": {},
   "source": [
    "### Variable 7 + Variable 8"
   ]
  },
  {
   "cell_type": "markdown",
   "id": "676abeac",
   "metadata": {},
   "source": [
    "#### correlation au choix (attention, il y a different type)"
   ]
  },
  {
   "cell_type": "markdown",
   "id": "0ed18403",
   "metadata": {},
   "source": [
    "#### graphe"
   ]
  },
  {
   "cell_type": "markdown",
   "id": "a0560589",
   "metadata": {},
   "source": [
    "# Analyse modele"
   ]
  },
  {
   "cell_type": "markdown",
   "id": "40c99386",
   "metadata": {},
   "source": [
    "import scikit-learn"
   ]
  },
  {
   "cell_type": "markdown",
   "id": "0d0c2bd5",
   "metadata": {},
   "source": [
    "Partager dataset\n",
    "\n",
    "train 70%\n",
    "test 30%\n",
    "par exemple\n",
    "\n",
    "Possibilité de tester 40/60 ou 20/80"
   ]
  },
  {
   "cell_type": "markdown",
   "id": "a0826c2d",
   "metadata": {},
   "source": [
    "## Model 1 (Regression logistique)"
   ]
  },
  {
   "cell_type": "markdown",
   "id": "2cf5e36e",
   "metadata": {},
   "source": [
    "### Entrainement du modele"
   ]
  },
  {
   "cell_type": "markdown",
   "id": "6c3aa39d",
   "metadata": {},
   "source": [
    "### Test du modele"
   ]
  },
  {
   "cell_type": "markdown",
   "id": "b1a79ee6",
   "metadata": {},
   "source": [
    "### Evaluation du modele selon metrics choisit (ex: Precision, accurancy, Recall,...)"
   ]
  },
  {
   "cell_type": "markdown",
   "id": "709ed1c0",
   "metadata": {},
   "source": [
    "## Model 2 ???"
   ]
  },
  {
   "cell_type": "markdown",
   "id": "d36d7103",
   "metadata": {},
   "source": [
    "### Entrainement du modele"
   ]
  },
  {
   "cell_type": "markdown",
   "id": "45e2ad7a",
   "metadata": {},
   "source": [
    "### Test du modele"
   ]
  },
  {
   "cell_type": "markdown",
   "id": "ab167523",
   "metadata": {},
   "source": [
    "### Evaluation du modele selon metrics choisit (ex: Precision, accurancy, Recall,...)"
   ]
  },
  {
   "cell_type": "markdown",
   "id": "9933b029",
   "metadata": {},
   "source": [
    "## Model 3 ???"
   ]
  },
  {
   "cell_type": "markdown",
   "id": "71ad0f0a",
   "metadata": {},
   "source": [
    "### Entrainement du modele"
   ]
  },
  {
   "cell_type": "markdown",
   "id": "1b089c21",
   "metadata": {},
   "source": [
    "### Test du modele"
   ]
  },
  {
   "cell_type": "markdown",
   "id": "a4eafdd6",
   "metadata": {},
   "source": [
    "### Evaluation du modele selon metrics choisit (ex: Precision, accurancy, Recall,...)"
   ]
  }
 ],
 "metadata": {
  "language_info": {
   "name": "python"
  }
 },
 "nbformat": 4,
 "nbformat_minor": 5
}
